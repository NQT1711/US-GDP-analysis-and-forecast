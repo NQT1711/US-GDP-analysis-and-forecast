{
 "cells": [
  {
   "cell_type": "code",
   "execution_count": 2,
   "metadata": {},
   "outputs": [],
   "source": [
    "import requests\n",
    "import pandas as pd\n",
    "import matplotlib.pyplot as plt\n",
    "import plotly.express as px\n",
    "from fredapi import Fred\n",
    "import matplotlib.dates as mdates"
   ]
  },
  {
   "cell_type": "markdown",
   "metadata": {},
   "source": [
    "## 1. Get data with Fred api"
   ]
  },
  {
   "cell_type": "code",
   "execution_count": 3,
   "metadata": {},
   "outputs": [],
   "source": [
    "fred_api_key = '851e9f74d81d8383b78883952fea5d56'"
   ]
  },
  {
   "cell_type": "markdown",
   "metadata": {},
   "source": [
    "#### Create The Fred object"
   ]
  },
  {
   "cell_type": "code",
   "execution_count": 4,
   "metadata": {},
   "outputs": [],
   "source": [
    "fred = Fred(api_key=fred_api_key)"
   ]
  },
  {
   "cell_type": "markdown",
   "metadata": {},
   "source": [
    "#### Search for GDP Data"
   ]
  },
  {
   "cell_type": "code",
   "execution_count": 5,
   "metadata": {},
   "outputs": [],
   "source": [
    "gdp_search = fred.search('GDP')"
   ]
  },
  {
   "cell_type": "code",
   "execution_count": 6,
   "metadata": {},
   "outputs": [
    {
     "data": {
      "text/html": [
       "<div>\n",
       "<style scoped>\n",
       "    .dataframe tbody tr th:only-of-type {\n",
       "        vertical-align: middle;\n",
       "    }\n",
       "\n",
       "    .dataframe tbody tr th {\n",
       "        vertical-align: top;\n",
       "    }\n",
       "\n",
       "    .dataframe thead th {\n",
       "        text-align: right;\n",
       "    }\n",
       "</style>\n",
       "<table border=\"1\" class=\"dataframe\">\n",
       "  <thead>\n",
       "    <tr style=\"text-align: right;\">\n",
       "      <th></th>\n",
       "      <th>id</th>\n",
       "      <th>realtime_start</th>\n",
       "      <th>realtime_end</th>\n",
       "      <th>title</th>\n",
       "      <th>observation_start</th>\n",
       "      <th>observation_end</th>\n",
       "      <th>frequency</th>\n",
       "      <th>frequency_short</th>\n",
       "      <th>units</th>\n",
       "      <th>units_short</th>\n",
       "      <th>seasonal_adjustment</th>\n",
       "      <th>seasonal_adjustment_short</th>\n",
       "      <th>last_updated</th>\n",
       "      <th>popularity</th>\n",
       "      <th>notes</th>\n",
       "    </tr>\n",
       "    <tr>\n",
       "      <th>series id</th>\n",
       "      <th></th>\n",
       "      <th></th>\n",
       "      <th></th>\n",
       "      <th></th>\n",
       "      <th></th>\n",
       "      <th></th>\n",
       "      <th></th>\n",
       "      <th></th>\n",
       "      <th></th>\n",
       "      <th></th>\n",
       "      <th></th>\n",
       "      <th></th>\n",
       "      <th></th>\n",
       "      <th></th>\n",
       "      <th></th>\n",
       "    </tr>\n",
       "  </thead>\n",
       "  <tbody>\n",
       "    <tr>\n",
       "      <th>GFDEGDQ188S</th>\n",
       "      <td>GFDEGDQ188S</td>\n",
       "      <td>2023-11-22</td>\n",
       "      <td>2023-11-22</td>\n",
       "      <td>Federal Debt: Total Public Debt as Percent of ...</td>\n",
       "      <td>1966-01-01</td>\n",
       "      <td>2023-04-01</td>\n",
       "      <td>Quarterly</td>\n",
       "      <td>Q</td>\n",
       "      <td>Percent of GDP</td>\n",
       "      <td>% of GDP</td>\n",
       "      <td>Seasonally Adjusted</td>\n",
       "      <td>SA</td>\n",
       "      <td>2023-09-28 08:03:01-05:00</td>\n",
       "      <td>84</td>\n",
       "      <td>Federal Debt: Total Public Debt as Percent of ...</td>\n",
       "    </tr>\n",
       "    <tr>\n",
       "      <th>FYFSGDA188S</th>\n",
       "      <td>FYFSGDA188S</td>\n",
       "      <td>2023-11-22</td>\n",
       "      <td>2023-11-22</td>\n",
       "      <td>Federal Surplus or Deficit [-] as Percent of G...</td>\n",
       "      <td>1929-01-01</td>\n",
       "      <td>2022-01-01</td>\n",
       "      <td>Annual</td>\n",
       "      <td>A</td>\n",
       "      <td>Percent of GDP</td>\n",
       "      <td>% of GDP</td>\n",
       "      <td>Not Seasonally Adjusted</td>\n",
       "      <td>NSA</td>\n",
       "      <td>2023-10-24 13:44:01-05:00</td>\n",
       "      <td>74</td>\n",
       "      <td>Federal Surplus or Deficit [-] as Percent of G...</td>\n",
       "    </tr>\n",
       "    <tr>\n",
       "      <th>FYFSDFYGDP</th>\n",
       "      <td>FYFSDFYGDP</td>\n",
       "      <td>2023-11-22</td>\n",
       "      <td>2023-11-22</td>\n",
       "      <td>Federal Surplus or Deficit [-] as Percent of G...</td>\n",
       "      <td>1930-06-30</td>\n",
       "      <td>2022-09-30</td>\n",
       "      <td>Annual, Fiscal Year</td>\n",
       "      <td>A</td>\n",
       "      <td>Percent of GDP</td>\n",
       "      <td>% of GDP</td>\n",
       "      <td>Not Seasonally Adjusted</td>\n",
       "      <td>NSA</td>\n",
       "      <td>2023-10-24 13:44:04-05:00</td>\n",
       "      <td>42</td>\n",
       "      <td>None</td>\n",
       "    </tr>\n",
       "    <tr>\n",
       "      <th>GDP</th>\n",
       "      <td>GDP</td>\n",
       "      <td>2023-11-22</td>\n",
       "      <td>2023-11-22</td>\n",
       "      <td>Gross Domestic Product</td>\n",
       "      <td>1947-01-01</td>\n",
       "      <td>2023-07-01</td>\n",
       "      <td>Quarterly</td>\n",
       "      <td>Q</td>\n",
       "      <td>Billions of Dollars</td>\n",
       "      <td>Bil. of $</td>\n",
       "      <td>Seasonally Adjusted Annual Rate</td>\n",
       "      <td>SAAR</td>\n",
       "      <td>2023-10-26 07:55:01-05:00</td>\n",
       "      <td>92</td>\n",
       "      <td>BEA Account Code: A191RC  Gross domestic produ...</td>\n",
       "    </tr>\n",
       "    <tr>\n",
       "      <th>FYONGDA188S</th>\n",
       "      <td>FYONGDA188S</td>\n",
       "      <td>2023-11-22</td>\n",
       "      <td>2023-11-22</td>\n",
       "      <td>Federal Net Outlays as Percent of Gross Domest...</td>\n",
       "      <td>1929-01-01</td>\n",
       "      <td>2022-01-01</td>\n",
       "      <td>Annual</td>\n",
       "      <td>A</td>\n",
       "      <td>Percent of GDP</td>\n",
       "      <td>% of GDP</td>\n",
       "      <td>Not Seasonally Adjusted</td>\n",
       "      <td>NSA</td>\n",
       "      <td>2023-10-24 13:44:03-05:00</td>\n",
       "      <td>65</td>\n",
       "      <td>Federal Net Outlays as Percent of Gross Domest...</td>\n",
       "    </tr>\n",
       "  </tbody>\n",
       "</table>\n",
       "</div>"
      ],
      "text/plain": [
       "                      id realtime_start realtime_end  \\\n",
       "series id                                              \n",
       "GFDEGDQ188S  GFDEGDQ188S     2023-11-22   2023-11-22   \n",
       "FYFSGDA188S  FYFSGDA188S     2023-11-22   2023-11-22   \n",
       "FYFSDFYGDP    FYFSDFYGDP     2023-11-22   2023-11-22   \n",
       "GDP                  GDP     2023-11-22   2023-11-22   \n",
       "FYONGDA188S  FYONGDA188S     2023-11-22   2023-11-22   \n",
       "\n",
       "                                                         title  \\\n",
       "series id                                                        \n",
       "GFDEGDQ188S  Federal Debt: Total Public Debt as Percent of ...   \n",
       "FYFSGDA188S  Federal Surplus or Deficit [-] as Percent of G...   \n",
       "FYFSDFYGDP   Federal Surplus or Deficit [-] as Percent of G...   \n",
       "GDP                                     Gross Domestic Product   \n",
       "FYONGDA188S  Federal Net Outlays as Percent of Gross Domest...   \n",
       "\n",
       "            observation_start observation_end            frequency  \\\n",
       "series id                                                            \n",
       "GFDEGDQ188S        1966-01-01      2023-04-01            Quarterly   \n",
       "FYFSGDA188S        1929-01-01      2022-01-01               Annual   \n",
       "FYFSDFYGDP         1930-06-30      2022-09-30  Annual, Fiscal Year   \n",
       "GDP                1947-01-01      2023-07-01            Quarterly   \n",
       "FYONGDA188S        1929-01-01      2022-01-01               Annual   \n",
       "\n",
       "            frequency_short                units units_short  \\\n",
       "series id                                                      \n",
       "GFDEGDQ188S               Q       Percent of GDP    % of GDP   \n",
       "FYFSGDA188S               A       Percent of GDP    % of GDP   \n",
       "FYFSDFYGDP                A       Percent of GDP    % of GDP   \n",
       "GDP                       Q  Billions of Dollars   Bil. of $   \n",
       "FYONGDA188S               A       Percent of GDP    % of GDP   \n",
       "\n",
       "                         seasonal_adjustment seasonal_adjustment_short  \\\n",
       "series id                                                                \n",
       "GFDEGDQ188S              Seasonally Adjusted                        SA   \n",
       "FYFSGDA188S          Not Seasonally Adjusted                       NSA   \n",
       "FYFSDFYGDP           Not Seasonally Adjusted                       NSA   \n",
       "GDP          Seasonally Adjusted Annual Rate                      SAAR   \n",
       "FYONGDA188S          Not Seasonally Adjusted                       NSA   \n",
       "\n",
       "                          last_updated popularity  \\\n",
       "series id                                           \n",
       "GFDEGDQ188S  2023-09-28 08:03:01-05:00         84   \n",
       "FYFSGDA188S  2023-10-24 13:44:01-05:00         74   \n",
       "FYFSDFYGDP   2023-10-24 13:44:04-05:00         42   \n",
       "GDP          2023-10-26 07:55:01-05:00         92   \n",
       "FYONGDA188S  2023-10-24 13:44:03-05:00         65   \n",
       "\n",
       "                                                         notes  \n",
       "series id                                                       \n",
       "GFDEGDQ188S  Federal Debt: Total Public Debt as Percent of ...  \n",
       "FYFSGDA188S  Federal Surplus or Deficit [-] as Percent of G...  \n",
       "FYFSDFYGDP                                                None  \n",
       "GDP          BEA Account Code: A191RC  Gross domestic produ...  \n",
       "FYONGDA188S  Federal Net Outlays as Percent of Gross Domest...  "
      ]
     },
     "execution_count": 6,
     "metadata": {},
     "output_type": "execute_result"
    }
   ],
   "source": [
    "gdp_search.head()"
   ]
  },
  {
   "cell_type": "code",
   "execution_count": 7,
   "metadata": {},
   "outputs": [
    {
     "data": {
      "text/html": [
       "<div>\n",
       "<style scoped>\n",
       "    .dataframe tbody tr th:only-of-type {\n",
       "        vertical-align: middle;\n",
       "    }\n",
       "\n",
       "    .dataframe tbody tr th {\n",
       "        vertical-align: top;\n",
       "    }\n",
       "\n",
       "    .dataframe thead th {\n",
       "        text-align: right;\n",
       "    }\n",
       "</style>\n",
       "<table border=\"1\" class=\"dataframe\">\n",
       "  <thead>\n",
       "    <tr style=\"text-align: right;\">\n",
       "      <th></th>\n",
       "      <th>id</th>\n",
       "      <th>realtime_start</th>\n",
       "      <th>realtime_end</th>\n",
       "      <th>title</th>\n",
       "      <th>observation_start</th>\n",
       "      <th>observation_end</th>\n",
       "      <th>frequency</th>\n",
       "      <th>frequency_short</th>\n",
       "      <th>units</th>\n",
       "      <th>units_short</th>\n",
       "      <th>seasonal_adjustment</th>\n",
       "      <th>seasonal_adjustment_short</th>\n",
       "      <th>last_updated</th>\n",
       "      <th>popularity</th>\n",
       "      <th>notes</th>\n",
       "    </tr>\n",
       "    <tr>\n",
       "      <th>series id</th>\n",
       "      <th></th>\n",
       "      <th></th>\n",
       "      <th></th>\n",
       "      <th></th>\n",
       "      <th></th>\n",
       "      <th></th>\n",
       "      <th></th>\n",
       "      <th></th>\n",
       "      <th></th>\n",
       "      <th></th>\n",
       "      <th></th>\n",
       "      <th></th>\n",
       "      <th></th>\n",
       "      <th></th>\n",
       "      <th></th>\n",
       "    </tr>\n",
       "  </thead>\n",
       "  <tbody>\n",
       "    <tr>\n",
       "      <th>GDPA</th>\n",
       "      <td>GDPA</td>\n",
       "      <td>2023-11-22</td>\n",
       "      <td>2023-11-22</td>\n",
       "      <td>Gross Domestic Product</td>\n",
       "      <td>1929-01-01</td>\n",
       "      <td>2022-01-01</td>\n",
       "      <td>Annual</td>\n",
       "      <td>A</td>\n",
       "      <td>Billions of Dollars</td>\n",
       "      <td>Bil. of $</td>\n",
       "      <td>Not Seasonally Adjusted</td>\n",
       "      <td>NSA</td>\n",
       "      <td>2023-09-28 07:51:03-05:00</td>\n",
       "      <td>60</td>\n",
       "      <td>BEA Account Code: A191RC</td>\n",
       "    </tr>\n",
       "    <tr>\n",
       "      <th>PCECA</th>\n",
       "      <td>PCECA</td>\n",
       "      <td>2023-11-22</td>\n",
       "      <td>2023-11-22</td>\n",
       "      <td>Personal Consumption Expenditures</td>\n",
       "      <td>1929-01-01</td>\n",
       "      <td>2022-01-01</td>\n",
       "      <td>Annual</td>\n",
       "      <td>A</td>\n",
       "      <td>Billions of Dollars</td>\n",
       "      <td>Bil. of $</td>\n",
       "      <td>Not Seasonally Adjusted</td>\n",
       "      <td>NSA</td>\n",
       "      <td>2023-09-28 07:50:03-05:00</td>\n",
       "      <td>39</td>\n",
       "      <td>BEA Account Code: DPCERC</td>\n",
       "    </tr>\n",
       "    <tr>\n",
       "      <th>A071RC1A027NBEA</th>\n",
       "      <td>A071RC1A027NBEA</td>\n",
       "      <td>2023-11-22</td>\n",
       "      <td>2023-11-22</td>\n",
       "      <td>Personal saving</td>\n",
       "      <td>1929-01-01</td>\n",
       "      <td>2022-01-01</td>\n",
       "      <td>Annual</td>\n",
       "      <td>A</td>\n",
       "      <td>Billions of Dollars</td>\n",
       "      <td>Bil. of $</td>\n",
       "      <td>Not Seasonally Adjusted</td>\n",
       "      <td>NSA</td>\n",
       "      <td>2023-09-28 07:51:07-05:00</td>\n",
       "      <td>41</td>\n",
       "      <td>BEA Account Code: A071RC  For more information...</td>\n",
       "    </tr>\n",
       "    <tr>\n",
       "      <th>W006RC1A027NBEA</th>\n",
       "      <td>W006RC1A027NBEA</td>\n",
       "      <td>2023-11-22</td>\n",
       "      <td>2023-11-22</td>\n",
       "      <td>Federal government current tax receipts</td>\n",
       "      <td>1929-01-01</td>\n",
       "      <td>2022-01-01</td>\n",
       "      <td>Annual</td>\n",
       "      <td>A</td>\n",
       "      <td>Billions of Dollars</td>\n",
       "      <td>Bil. of $</td>\n",
       "      <td>Not Seasonally Adjusted</td>\n",
       "      <td>NSA</td>\n",
       "      <td>2023-09-28 07:50:08-05:00</td>\n",
       "      <td>12</td>\n",
       "      <td>BEA Account Code: W006RC  For more information...</td>\n",
       "    </tr>\n",
       "    <tr>\n",
       "      <th>A067RC1A027NBEA</th>\n",
       "      <td>A067RC1A027NBEA</td>\n",
       "      <td>2023-11-22</td>\n",
       "      <td>2023-11-22</td>\n",
       "      <td>Disposable personal income</td>\n",
       "      <td>1929-01-01</td>\n",
       "      <td>2022-01-01</td>\n",
       "      <td>Annual</td>\n",
       "      <td>A</td>\n",
       "      <td>Billions of Dollars</td>\n",
       "      <td>Bil. of $</td>\n",
       "      <td>Not Seasonally Adjusted</td>\n",
       "      <td>NSA</td>\n",
       "      <td>2023-09-28 07:51:16-05:00</td>\n",
       "      <td>14</td>\n",
       "      <td>BEA Account Code: A067RC  For more information...</td>\n",
       "    </tr>\n",
       "  </tbody>\n",
       "</table>\n",
       "</div>"
      ],
      "text/plain": [
       "                              id realtime_start realtime_end  \\\n",
       "series id                                                      \n",
       "GDPA                        GDPA     2023-11-22   2023-11-22   \n",
       "PCECA                      PCECA     2023-11-22   2023-11-22   \n",
       "A071RC1A027NBEA  A071RC1A027NBEA     2023-11-22   2023-11-22   \n",
       "W006RC1A027NBEA  W006RC1A027NBEA     2023-11-22   2023-11-22   \n",
       "A067RC1A027NBEA  A067RC1A027NBEA     2023-11-22   2023-11-22   \n",
       "\n",
       "                                                   title observation_start  \\\n",
       "series id                                                                    \n",
       "GDPA                              Gross Domestic Product        1929-01-01   \n",
       "PCECA                  Personal Consumption Expenditures        1929-01-01   \n",
       "A071RC1A027NBEA                          Personal saving        1929-01-01   \n",
       "W006RC1A027NBEA  Federal government current tax receipts        1929-01-01   \n",
       "A067RC1A027NBEA               Disposable personal income        1929-01-01   \n",
       "\n",
       "                observation_end frequency frequency_short  \\\n",
       "series id                                                   \n",
       "GDPA                 2022-01-01    Annual               A   \n",
       "PCECA                2022-01-01    Annual               A   \n",
       "A071RC1A027NBEA      2022-01-01    Annual               A   \n",
       "W006RC1A027NBEA      2022-01-01    Annual               A   \n",
       "A067RC1A027NBEA      2022-01-01    Annual               A   \n",
       "\n",
       "                               units units_short      seasonal_adjustment  \\\n",
       "series id                                                                   \n",
       "GDPA             Billions of Dollars   Bil. of $  Not Seasonally Adjusted   \n",
       "PCECA            Billions of Dollars   Bil. of $  Not Seasonally Adjusted   \n",
       "A071RC1A027NBEA  Billions of Dollars   Bil. of $  Not Seasonally Adjusted   \n",
       "W006RC1A027NBEA  Billions of Dollars   Bil. of $  Not Seasonally Adjusted   \n",
       "A067RC1A027NBEA  Billions of Dollars   Bil. of $  Not Seasonally Adjusted   \n",
       "\n",
       "                seasonal_adjustment_short               last_updated  \\\n",
       "series id                                                              \n",
       "GDPA                                  NSA  2023-09-28 07:51:03-05:00   \n",
       "PCECA                                 NSA  2023-09-28 07:50:03-05:00   \n",
       "A071RC1A027NBEA                       NSA  2023-09-28 07:51:07-05:00   \n",
       "W006RC1A027NBEA                       NSA  2023-09-28 07:50:08-05:00   \n",
       "A067RC1A027NBEA                       NSA  2023-09-28 07:51:16-05:00   \n",
       "\n",
       "                popularity                                              notes  \n",
       "series id                                                                      \n",
       "GDPA                    60                         BEA Account Code: A191RC    \n",
       "PCECA                   39                         BEA Account Code: DPCERC    \n",
       "A071RC1A027NBEA         41  BEA Account Code: A071RC  For more information...  \n",
       "W006RC1A027NBEA         12  BEA Account Code: W006RC  For more information...  \n",
       "A067RC1A027NBEA         14  BEA Account Code: A067RC  For more information...  "
      ]
     },
     "execution_count": 7,
     "metadata": {},
     "output_type": "execute_result"
    }
   ],
   "source": [
    "# Find the api id with units of measurement is 'Billions of Dollars' and frequency in year is 'Annual'\n",
    "gdp_id = gdp_search[(gdp_search['units'] == 'Billions of Dollars') & (gdp_search['frequency'] == 'Annual')]\n",
    "gdp_id.head() # You can choose any id you want, here I choose GDPA"
   ]
  },
  {
   "cell_type": "code",
   "execution_count": 8,
   "metadata": {},
   "outputs": [],
   "source": [
    "# Get data from selected api id 'GDPA' (US GDP in 2013-2022)\n",
    "gdp = fred.get_series(series_id='GDPA', observation_start='2013-01-01', observation_end='2022-01-01')\n",
    "gdp_df = gdp.to_frame(name='GDP (Bil$)') # Create DataFrame"
   ]
  },
  {
   "cell_type": "markdown",
   "metadata": {},
   "source": [
    "## 2. Exploratory Data Analysis (EDA)"
   ]
  },
  {
   "cell_type": "code",
   "execution_count": 9,
   "metadata": {},
   "outputs": [
    {
     "data": {
      "text/plain": [
       "(10, 1)"
      ]
     },
     "execution_count": 9,
     "metadata": {},
     "output_type": "execute_result"
    }
   ],
   "source": [
    "gdp_df.shape"
   ]
  },
  {
   "cell_type": "code",
   "execution_count": 10,
   "metadata": {},
   "outputs": [
    {
     "data": {
      "text/html": [
       "<div>\n",
       "<style scoped>\n",
       "    .dataframe tbody tr th:only-of-type {\n",
       "        vertical-align: middle;\n",
       "    }\n",
       "\n",
       "    .dataframe tbody tr th {\n",
       "        vertical-align: top;\n",
       "    }\n",
       "\n",
       "    .dataframe thead th {\n",
       "        text-align: right;\n",
       "    }\n",
       "</style>\n",
       "<table border=\"1\" class=\"dataframe\">\n",
       "  <thead>\n",
       "    <tr style=\"text-align: right;\">\n",
       "      <th></th>\n",
       "      <th>GDP (Bil$)</th>\n",
       "    </tr>\n",
       "  </thead>\n",
       "  <tbody>\n",
       "    <tr>\n",
       "      <th>count</th>\n",
       "      <td>10.000000</td>\n",
       "    </tr>\n",
       "    <tr>\n",
       "      <th>mean</th>\n",
       "      <td>20403.985500</td>\n",
       "    </tr>\n",
       "    <tr>\n",
       "      <th>std</th>\n",
       "      <td>2763.099021</td>\n",
       "    </tr>\n",
       "    <tr>\n",
       "      <th>min</th>\n",
       "      <td>16880.683000</td>\n",
       "    </tr>\n",
       "    <tr>\n",
       "      <th>25%</th>\n",
       "      <td>18422.492500</td>\n",
       "    </tr>\n",
       "    <tr>\n",
       "      <th>50%</th>\n",
       "      <td>20134.309000</td>\n",
       "    </tr>\n",
       "    <tr>\n",
       "      <th>75%</th>\n",
       "      <td>21471.783750</td>\n",
       "    </tr>\n",
       "    <tr>\n",
       "      <th>max</th>\n",
       "      <td>25744.108000</td>\n",
       "    </tr>\n",
       "  </tbody>\n",
       "</table>\n",
       "</div>"
      ],
      "text/plain": [
       "         GDP (Bil$)\n",
       "count     10.000000\n",
       "mean   20403.985500\n",
       "std     2763.099021\n",
       "min    16880.683000\n",
       "25%    18422.492500\n",
       "50%    20134.309000\n",
       "75%    21471.783750\n",
       "max    25744.108000"
      ]
     },
     "execution_count": 10,
     "metadata": {},
     "output_type": "execute_result"
    }
   ],
   "source": [
    "gdp_df.describe()"
   ]
  },
  {
   "cell_type": "code",
   "execution_count": 11,
   "metadata": {},
   "outputs": [
    {
     "data": {
      "text/plain": [
       "GDP (Bil$)    0\n",
       "dtype: int64"
      ]
     },
     "execution_count": 11,
     "metadata": {},
     "output_type": "execute_result"
    }
   ],
   "source": [
    "gdp_df.isnull().sum() #checking for total null values"
   ]
  },
  {
   "cell_type": "markdown",
   "metadata": {},
   "source": [
    "## 3. Data preprocessing"
   ]
  },
  {
   "cell_type": "markdown",
   "metadata": {},
   "source": [
    "#### Calculate the absolute change in GDP"
   ]
  },
  {
   "cell_type": "code",
   "execution_count": 13,
   "metadata": {},
   "outputs": [],
   "source": [
    "gdp_df['Absolute change (Bil$)'] = gdp_df['GDP (Bil$)'] - gdp_df['GDP (Bil$)'].shift()"
   ]
  },
  {
   "cell_type": "markdown",
   "metadata": {},
   "source": [
    "#### Calculate the consecutive growth rate in GDP"
   ]
  },
  {
   "cell_type": "code",
   "execution_count": 14,
   "metadata": {},
   "outputs": [],
   "source": [
    "gdp_df['Consecutive GRate (%)'] = (gdp_df['GDP (Bil$)'] / gdp_df['GDP (Bil$)'].shift())*100"
   ]
  },
  {
   "cell_type": "markdown",
   "metadata": {},
   "source": [
    "#### Calculate the growth rate in GDP"
   ]
  },
  {
   "cell_type": "code",
   "execution_count": 15,
   "metadata": {},
   "outputs": [],
   "source": [
    "gdp_df['Growth rate (%)'] = (gdp_df['Absolute change (Bil$)'] / gdp_df['GDP (Bil$)'].shift())*100"
   ]
  },
  {
   "cell_type": "markdown",
   "metadata": {},
   "source": [
    "#### Calculate the value of 1% consecutive GDP growth"
   ]
  },
  {
   "cell_type": "code",
   "execution_count": 16,
   "metadata": {},
   "outputs": [],
   "source": [
    "gdp_df['1% growth rate (Bil$)'] = gdp_df['GDP (Bil$)'].shift()/100"
   ]
  },
  {
   "cell_type": "code",
   "execution_count": 17,
   "metadata": {},
   "outputs": [
    {
     "data": {
      "text/html": [
       "<div>\n",
       "<style scoped>\n",
       "    .dataframe tbody tr th:only-of-type {\n",
       "        vertical-align: middle;\n",
       "    }\n",
       "\n",
       "    .dataframe tbody tr th {\n",
       "        vertical-align: top;\n",
       "    }\n",
       "\n",
       "    .dataframe thead th {\n",
       "        text-align: right;\n",
       "    }\n",
       "</style>\n",
       "<table border=\"1\" class=\"dataframe\">\n",
       "  <thead>\n",
       "    <tr style=\"text-align: right;\">\n",
       "      <th></th>\n",
       "      <th>GDP (Bil$)</th>\n",
       "      <th>Absolute change (Bil$)</th>\n",
       "      <th>Consecutive GRate (%)</th>\n",
       "      <th>Growth rate (%)</th>\n",
       "      <th>1% growth rate (Bil$)</th>\n",
       "    </tr>\n",
       "  </thead>\n",
       "  <tbody>\n",
       "    <tr>\n",
       "      <th>2013-01-01</th>\n",
       "      <td>16880.683</td>\n",
       "      <td>NaN</td>\n",
       "      <td>NaN</td>\n",
       "      <td>NaN</td>\n",
       "      <td>NaN</td>\n",
       "    </tr>\n",
       "    <tr>\n",
       "      <th>2014-01-01</th>\n",
       "      <td>17608.138</td>\n",
       "      <td>727.455</td>\n",
       "      <td>104.309393</td>\n",
       "      <td>4.309393</td>\n",
       "      <td>168.80683</td>\n",
       "    </tr>\n",
       "    <tr>\n",
       "      <th>2015-01-01</th>\n",
       "      <td>18295.019</td>\n",
       "      <td>686.881</td>\n",
       "      <td>103.900929</td>\n",
       "      <td>3.900929</td>\n",
       "      <td>176.08138</td>\n",
       "    </tr>\n",
       "    <tr>\n",
       "      <th>2016-01-01</th>\n",
       "      <td>18804.913</td>\n",
       "      <td>509.894</td>\n",
       "      <td>102.787065</td>\n",
       "      <td>2.787065</td>\n",
       "      <td>182.95019</td>\n",
       "    </tr>\n",
       "    <tr>\n",
       "      <th>2017-01-01</th>\n",
       "      <td>19612.102</td>\n",
       "      <td>807.189</td>\n",
       "      <td>104.292437</td>\n",
       "      <td>4.292437</td>\n",
       "      <td>188.04913</td>\n",
       "    </tr>\n",
       "    <tr>\n",
       "      <th>2018-01-01</th>\n",
       "      <td>20656.516</td>\n",
       "      <td>1044.414</td>\n",
       "      <td>105.325355</td>\n",
       "      <td>5.325355</td>\n",
       "      <td>196.12102</td>\n",
       "    </tr>\n",
       "    <tr>\n",
       "      <th>2019-01-01</th>\n",
       "      <td>21521.395</td>\n",
       "      <td>864.879</td>\n",
       "      <td>104.186955</td>\n",
       "      <td>4.186955</td>\n",
       "      <td>206.56516</td>\n",
       "    </tr>\n",
       "    <tr>\n",
       "      <th>2020-01-01</th>\n",
       "      <td>21322.950</td>\n",
       "      <td>-198.445</td>\n",
       "      <td>99.077918</td>\n",
       "      <td>-0.922082</td>\n",
       "      <td>215.21395</td>\n",
       "    </tr>\n",
       "    <tr>\n",
       "      <th>2021-01-01</th>\n",
       "      <td>23594.031</td>\n",
       "      <td>2271.081</td>\n",
       "      <td>110.650876</td>\n",
       "      <td>10.650876</td>\n",
       "      <td>213.22950</td>\n",
       "    </tr>\n",
       "    <tr>\n",
       "      <th>2022-01-01</th>\n",
       "      <td>25744.108</td>\n",
       "      <td>2150.077</td>\n",
       "      <td>109.112801</td>\n",
       "      <td>9.112801</td>\n",
       "      <td>235.94031</td>\n",
       "    </tr>\n",
       "  </tbody>\n",
       "</table>\n",
       "</div>"
      ],
      "text/plain": [
       "            GDP (Bil$)  Absolute change (Bil$)  Consecutive GRate (%)  \\\n",
       "2013-01-01   16880.683                     NaN                    NaN   \n",
       "2014-01-01   17608.138                 727.455             104.309393   \n",
       "2015-01-01   18295.019                 686.881             103.900929   \n",
       "2016-01-01   18804.913                 509.894             102.787065   \n",
       "2017-01-01   19612.102                 807.189             104.292437   \n",
       "2018-01-01   20656.516                1044.414             105.325355   \n",
       "2019-01-01   21521.395                 864.879             104.186955   \n",
       "2020-01-01   21322.950                -198.445              99.077918   \n",
       "2021-01-01   23594.031                2271.081             110.650876   \n",
       "2022-01-01   25744.108                2150.077             109.112801   \n",
       "\n",
       "            Growth rate (%)  1% growth rate (Bil$)  \n",
       "2013-01-01              NaN                    NaN  \n",
       "2014-01-01         4.309393              168.80683  \n",
       "2015-01-01         3.900929              176.08138  \n",
       "2016-01-01         2.787065              182.95019  \n",
       "2017-01-01         4.292437              188.04913  \n",
       "2018-01-01         5.325355              196.12102  \n",
       "2019-01-01         4.186955              206.56516  \n",
       "2020-01-01        -0.922082              215.21395  \n",
       "2021-01-01        10.650876              213.22950  \n",
       "2022-01-01         9.112801              235.94031  "
      ]
     },
     "execution_count": 17,
     "metadata": {},
     "output_type": "execute_result"
    }
   ],
   "source": [
    "gdp_df"
   ]
  },
  {
   "cell_type": "markdown",
   "metadata": {},
   "source": [
    "## 4. Analysis"
   ]
  },
  {
   "cell_type": "code",
   "execution_count": 12,
   "metadata": {},
   "outputs": [
    {
     "data": {
      "image/png": "[encoded data removed]",
      "text/plain": [
       "<Figure size 1500x500 with 1 Axes>"
      ]
     },
     "metadata": {},
     "output_type": "display_data"
    }
   ],
   "source": [
    "# Plot GDP\n",
    "gdp_df.plot(figsize=(15,5))\n",
    "\n",
    "plt.legend(loc='best')\n",
    "plt.title('GDP')\n",
    "plt.show()"
   ]
  },
  {
   "cell_type": "markdown",
   "metadata": {},
   "source": [
    "#### Defining subplots for 4 indicators in the dataset"
   ]
  },
  {
   "cell_type": "code",
   "execution_count": 18,
   "metadata": {},
   "outputs": [
    {
     "data": {
      "text/plain": [
       "<matplotlib.legend.Legend at 0x272052e7640>"
      ]
     },
     "execution_count": 18,
     "metadata": {},
     "output_type": "execute_result"
    },
    {
     "data": {
      "image/png": "[encoded data removed]",
      "text/plain": [
       "<Figure size 2000x700 with 4 Axes>"
      ]
     },
     "metadata": {},
     "output_type": "display_data"
    }
   ],
   "source": [
    "fig = plt.figure(figsize=(20, 7))\n",
    "ax1 = fig.add_subplot(221)\n",
    "ax2 = fig.add_subplot(222)\n",
    "ax3 = fig.add_subplot(223)\n",
    "ax4 = fig.add_subplot(224)\n",
    "\n",
    "ax1.plot(gdp_df['Absolute change (Bil$)'], \"o-\", label='Mean=%s'%(round(gdp_df['Absolute change (Bil$)'].mean())))\n",
    "ax1.set_title('Absolute change (Bil$)')\n",
    "ax1.legend(loc=\"best\")\n",
    "\n",
    "ax2.plot(gdp_df['Consecutive GRate (%)'], \"o-\", label='Mean=%s'%(round(gdp_df['Consecutive GRate (%)'].mean())))\n",
    "ax2.set_title('Consecutive GRate (%)')\n",
    "ax2.legend(loc=\"best\")\n",
    "\n",
    "ax3.plot(gdp_df['Growth rate (%)'], \"o-\", label='Mean=%s'%(round(gdp_df['Growth rate (%)'].mean())))\n",
    "ax3.set_title('Growth rate (%)')\n",
    "ax3.legend(loc=\"best\")\n",
    "\n",
    "ax4.plot(gdp_df['1% growth rate (Bil$)'], \"o-\", label='Mean=%s'%(round(gdp_df['1% growth rate (Bil$)'].mean())))\n",
    "ax4.set_title('1% growth rate (Bil$)')\n",
    "ax4.legend(loc=\"best\")"
   ]
  },
  {
   "cell_type": "markdown",
   "metadata": {},
   "source": [
    "- Based on the chart, US GDP in the period 2013-2022 continues to grow over the years with an average growth rate of 5%, corresponding to an average absolute GDP increase of 985 billion dollars, absolute value 1 % GDP increase in the period 2013-2022 increased continuously, in 2014 it was 168.8 billion dollars and in 2022 it was 235.94 billion dollars. GDP growth in the period 2012-2022 is generally very positive, reflecting the US economy very well.\n",
    "\n",
    "- To further analyze the change in US GDP over the years, we divide the period 2013-2022 into two periods 2013-2019 and 2020-2022: \n",
    "    + In the period 2013-2019, the GDP growth rate tended to decrease from 4.3% in 2014 to 2.78% in 2016, then increased to 5.32% in 2018 and decreased to 4.18% in 2019. The sharp drop in world crude oil prices and political instability in 2016 and tightening monetary policy in 2019 are the reasons why GDP growth rate decreased compared to previous years.\n",
    "    + In the period 2020-2022, Covid-19 has negatively affected the US economy, causing GDP to decrease to 21,322 billion dollars compared to 21,521 billion dollars in 2019, the GDP growth rate reached a negative level of -0.92% . After a difficult year, by 2021 the US Government has issued fiscal policies and loose monetary policies to stimulate the economy to recover after the epidemic, so GDP has increased to 23,594 billion dollars, at an accelerated rate. GDP growth reached 10.65%. In 2022, the GDP growth rate will decrease to 9.11% because of rising inflation and being indirectly affected by the Russia-Ukraine war.\n",
    "\n",
    "=> US GDP has grown steadily in the period 2013-2022, which is a good sign, although it is more or less affected by a number of other factors."
   ]
  },
  {
   "cell_type": "markdown",
   "metadata": {},
   "source": [
    "## 5. Build ARIMA model and forecast"
   ]
  },
  {
   "cell_type": "code",
   "execution_count": null,
   "metadata": {},
   "outputs": [],
   "source": []
  }
 ],
 "metadata": {
  "kernelspec": {
   "display_name": "Python 3",
   "language": "python",
   "name": "python3"
  },
  "language_info": {
   "codemirror_mode": {
    "name": "ipython",
    "version": 3
   },
   "file_extension": ".py",
   "mimetype": "text/x-python",
   "name": "python",
   "nbconvert_exporter": "python",
   "pygments_lexer": "ipython3",
   "version": "3.9.0"
  }
 },
 "nbformat": 4,
 "nbformat_minor": 2
}
